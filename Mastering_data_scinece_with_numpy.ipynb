{
  "nbformat": 4,
  "nbformat_minor": 0,
  "metadata": {
    "colab": {
      "provenance": []
    },
    "kernelspec": {
      "name": "python3",
      "display_name": "Python 3"
    },
    "language_info": {
      "name": "python"
    }
  },
  "cells": [
    {
      "cell_type": "code",
      "execution_count": null,
      "metadata": {
        "colab": {
          "base_uri": "https://localhost:8080/"
        },
        "id": "kUuLxLfUuss7",
        "outputId": "b88a020d-9088-4b2a-995b-bb65d9f41dc8"
      },
      "outputs": [
        {
          "output_type": "stream",
          "name": "stdout",
          "text": [
            "[ 1  2  3  4  5  6  7  8  9 10]\n"
          ]
        }
      ],
      "source": [
        "# with the help of numpy we create array in python\n",
        "import numpy as np\n",
        "my_arr=np.array([1,2,3,4,5,6,7,8,9,10])\n",
        "print(my_arr)"
      ]
    },
    {
      "cell_type": "code",
      "source": [
        "type(my_arr)"
      ],
      "metadata": {
        "colab": {
          "base_uri": "https://localhost:8080/"
        },
        "id": "6F8927NMve-t",
        "outputId": "ec5e1cfa-02f5-4aa1-e3e1-14e36918752a"
      },
      "execution_count": null,
      "outputs": [
        {
          "output_type": "execute_result",
          "data": {
            "text/plain": [
              "numpy.ndarray"
            ]
          },
          "metadata": {},
          "execution_count": 5
        }
      ]
    },
    {
      "cell_type": "code",
      "source": [
        "# generate random number\n",
        "rand_num=np.random.randint(1,100,size=5)"
      ],
      "metadata": {
        "id": "o5K9sOjSvlqj"
      },
      "execution_count": null,
      "outputs": []
    },
    {
      "cell_type": "code",
      "source": [
        "print(rand_num)"
      ],
      "metadata": {
        "colab": {
          "base_uri": "https://localhost:8080/"
        },
        "id": "I49DDY91wBth",
        "outputId": "948ae576-6d2a-4a1a-be19-e2a913ff0d76"
      },
      "execution_count": null,
      "outputs": [
        {
          "output_type": "stream",
          "name": "stdout",
          "text": [
            "[ 2 82 30 34  9]\n"
          ]
        }
      ]
    },
    {
      "cell_type": "code",
      "source": [
        "# array shape manipulation\n",
        "my_arr=np.array([10,15,11,13,14])\n",
        "reshape_arr=my_arr.reshape(1,5)\n",
        "print(reshape_arr)"
      ],
      "metadata": {
        "colab": {
          "base_uri": "https://localhost:8080/"
        },
        "id": "MhrWPLlMwF_V",
        "outputId": "20a46ad6-2a9c-4afb-ea59-9af86aaa41f5"
      },
      "execution_count": null,
      "outputs": [
        {
          "output_type": "stream",
          "name": "stdout",
          "text": [
            "[[10 15 11 13 14]]\n"
          ]
        }
      ]
    },
    {
      "cell_type": "code",
      "source": [
        "#array indexing\n",
        "my_arr[2]"
      ],
      "metadata": {
        "colab": {
          "base_uri": "https://localhost:8080/"
        },
        "id": "JqikXpa-wtGh",
        "outputId": "35c7d35a-4833-4129-ee0e-a23f69b9a678"
      },
      "execution_count": null,
      "outputs": [
        {
          "output_type": "execute_result",
          "data": {
            "text/plain": [
              "11"
            ]
          },
          "metadata": {},
          "execution_count": 18
        }
      ]
    },
    {
      "cell_type": "code",
      "source": [
        "#array operation\n",
        "array1=np.array([1,2,3,4,5])\n",
        "array2=np.array([6,7,8,9,10])\n",
        "result=array1 + array2"
      ],
      "metadata": {
        "id": "1a2L6h7PxN-R"
      },
      "execution_count": null,
      "outputs": []
    },
    {
      "cell_type": "code",
      "source": [
        "print(result)"
      ],
      "metadata": {
        "colab": {
          "base_uri": "https://localhost:8080/"
        },
        "id": "lfBcXt_Uxl18",
        "outputId": "9fc30c6b-8178-49e8-bf02-27e3bea57250"
      },
      "execution_count": null,
      "outputs": [
        {
          "output_type": "stream",
          "name": "stdout",
          "text": [
            "[ 7  9 11 13 15]\n"
          ]
        }
      ]
    },
    {
      "cell_type": "code",
      "source": [
        "arr=np.array([12,15,17,18,19,20,30,35,50,23])"
      ],
      "metadata": {
        "id": "MYTp4kJ5xnD2"
      },
      "execution_count": null,
      "outputs": []
    },
    {
      "cell_type": "code",
      "source": [
        "c=arr[arr>30]"
      ],
      "metadata": {
        "id": "1u2M0DANxzKx"
      },
      "execution_count": null,
      "outputs": []
    },
    {
      "cell_type": "code",
      "source": [
        "print(c)"
      ],
      "metadata": {
        "colab": {
          "base_uri": "https://localhost:8080/"
        },
        "id": "7TG6iUKEx31j",
        "outputId": "6ee8dcfd-9ea2-4c3b-a271-c9ba30524abd"
      },
      "execution_count": null,
      "outputs": [
        {
          "output_type": "stream",
          "name": "stdout",
          "text": [
            "[35 50]\n"
          ]
        }
      ]
    },
    {
      "cell_type": "code",
      "source": [
        "arr1=np.array([1,2,3])\n",
        "scalar=10\n",
        "result=arr1 * scalar\n",
        "print(result)"
      ],
      "metadata": {
        "colab": {
          "base_uri": "https://localhost:8080/"
        },
        "id": "k1v4Nxbax7nf",
        "outputId": "00639b22-1296-4954-b0c3-83466715fb29"
      },
      "execution_count": null,
      "outputs": [
        {
          "output_type": "stream",
          "name": "stdout",
          "text": [
            "[10 20 30]\n"
          ]
        }
      ]
    },
    {
      "cell_type": "code",
      "source": [
        "mean=np.mean(my_arr)"
      ],
      "metadata": {
        "id": "ckVQLOoNydNh"
      },
      "execution_count": null,
      "outputs": []
    },
    {
      "cell_type": "code",
      "source": [
        "print(mean)"
      ],
      "metadata": {
        "colab": {
          "base_uri": "https://localhost:8080/"
        },
        "id": "mZ22bscOyuRr",
        "outputId": "97d9da54-0109-4d87-bf8b-75bc74394a06"
      },
      "execution_count": null,
      "outputs": [
        {
          "output_type": "stream",
          "name": "stdout",
          "text": [
            "12.6\n"
          ]
        }
      ]
    },
    {
      "cell_type": "code",
      "source": [],
      "metadata": {
        "id": "6CftZGL5zE2K"
      },
      "execution_count": null,
      "outputs": []
    }
  ]
}